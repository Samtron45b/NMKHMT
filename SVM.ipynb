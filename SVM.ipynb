{
 "cells": [
  {
   "cell_type": "code",
   "execution_count": 1,
   "id": "80cf725c",
   "metadata": {},
   "outputs": [],
   "source": [
    "from sklearn import svm\n",
    "import cv2\n",
    "import os\n",
    "import numpy as np\n",
    "import pickle"
   ]
  },
  {
   "cell_type": "code",
   "execution_count": 2,
   "id": "d334c25f",
   "metadata": {
    "scrolled": false
   },
   "outputs": [],
   "source": [
    "paths=['datasets/train_folder/0','datasets/train_folder/1','datasets/test_folder/0','datasets/test_folder/1']\n",
    "IMG_SIZE = 50"
   ]
  },
  {
   "cell_type": "code",
   "execution_count": 3,
   "id": "137bfbeb",
   "metadata": {},
   "outputs": [],
   "source": [
    "train_paths=[]\n",
    "train_labels=[]\n",
    "train_data=[]\n",
    "test_paths=[]\n",
    "test_labels=[]\n",
    "test_data=[]"
   ]
  },
  {
   "cell_type": "code",
   "execution_count": 4,
   "id": "64feec84",
   "metadata": {},
   "outputs": [],
   "source": [
    "for _ in os.listdir(paths[0]):\n",
    "    train_paths.append(paths[0]+'/'+_)\n",
    "    train_labels.append(0)\n",
    "for _ in os.listdir(paths[1]):\n",
    "    train_paths.append(paths[1]+'/'+_)\n",
    "    train_labels.append(1)"
   ]
  },
  {
   "cell_type": "code",
   "execution_count": 5,
   "id": "241f3ce9",
   "metadata": {},
   "outputs": [],
   "source": [
    "for _ in os.listdir(paths[2]):\n",
    "    test_paths.append(paths[2]+'/'+_)\n",
    "    test_labels.append(0)\n",
    "for _ in os.listdir(paths[3]):\n",
    "    test_paths.append(paths[3]+'/'+_)\n",
    "    test_labels.append(1)"
   ]
  },
  {
   "cell_type": "code",
   "execution_count": 6,
   "id": "6619d118",
   "metadata": {},
   "outputs": [],
   "source": [
    "for _ in range(len(train_paths)):\n",
    "    img = cv2.imread(train_paths[_], cv2.IMREAD_GRAYSCALE)\n",
    "    img = cv2.resize(img, (IMG_SIZE, IMG_SIZE))\n",
    "    train_data.append(np.array(img))"
   ]
  },
  {
   "cell_type": "code",
   "execution_count": 7,
   "id": "314a1634",
   "metadata": {},
   "outputs": [],
   "source": [
    "for _ in test_paths:\n",
    "    img = cv2.imread(_, cv2.IMREAD_GRAYSCALE)\n",
    "    img = cv2.resize(img, (IMG_SIZE, IMG_SIZE))\n",
    "    test_data.append(np.array(img))"
   ]
  },
  {
   "cell_type": "code",
   "execution_count": 8,
   "id": "9e95a73c",
   "metadata": {},
   "outputs": [],
   "source": [
    "train_data=np.array(train_data)\n",
    "train_labels=np.array(train_labels)\n",
    "test_data=np.array(test_data)\n",
    "test_labels=np.array(test_labels)\n",
    "train_data=train_data/255.0\n",
    "test_data=test_data/255.0"
   ]
  },
  {
   "cell_type": "code",
   "execution_count": 9,
   "id": "9d556a66",
   "metadata": {},
   "outputs": [],
   "source": [
    "train_data=train_data.flatten().reshape(-1,IMG_SIZE*IMG_SIZE)\n",
    "test_data=test_data.flatten().reshape(-1,IMG_SIZE*IMG_SIZE)"
   ]
  },
  {
   "cell_type": "code",
   "execution_count": 10,
   "id": "e8736bc4",
   "metadata": {},
   "outputs": [
    {
     "data": {
      "text/plain": [
       "SVC(decision_function_shape='ovo', probability=True, random_state=0)"
      ]
     },
     "execution_count": 10,
     "metadata": {},
     "output_type": "execute_result"
    }
   ],
   "source": [
    "clf = svm.SVC(gamma='scale', decision_function_shape='ovo', kernel='rbf', C=1.0, random_state=0)\n",
    "clf.probability=True\n",
    "clf.fit(train_data, train_labels)"
   ]
  },
  {
   "cell_type": "code",
   "execution_count": 11,
   "id": "a95c4d8f",
   "metadata": {},
   "outputs": [
    {
     "data": {
      "text/plain": [
       "array([0, 1, 0, ..., 1, 1, 1])"
      ]
     },
     "execution_count": 11,
     "metadata": {},
     "output_type": "execute_result"
    }
   ],
   "source": [
    "clf.predict(test_data)"
   ]
  },
  {
   "cell_type": "code",
   "execution_count": 12,
   "id": "7227950f",
   "metadata": {},
   "outputs": [
    {
     "data": {
      "text/plain": [
       "0.7775"
      ]
     },
     "execution_count": 12,
     "metadata": {},
     "output_type": "execute_result"
    }
   ],
   "source": [
    "clf.score(test_data, test_labels)"
   ]
  },
  {
   "cell_type": "code",
   "execution_count": 13,
   "id": "b2f73ea3",
   "metadata": {},
   "outputs": [],
   "source": [
    "filename = 'svm_model.sav'\n",
    "pickle.dump(clf, open(filename, 'wb'))"
   ]
  },
  {
   "cell_type": "code",
   "execution_count": null,
   "id": "34befa9e",
   "metadata": {},
   "outputs": [],
   "source": []
  }
 ],
 "metadata": {
  "kernelspec": {
   "display_name": "Python 3",
   "language": "python",
   "name": "python3"
  },
  "language_info": {
   "codemirror_mode": {
    "name": "ipython",
    "version": 3
   },
   "file_extension": ".py",
   "mimetype": "text/x-python",
   "name": "python",
   "nbconvert_exporter": "python",
   "pygments_lexer": "ipython3",
   "version": "3.8.8"
  }
 },
 "nbformat": 4,
 "nbformat_minor": 5
}
