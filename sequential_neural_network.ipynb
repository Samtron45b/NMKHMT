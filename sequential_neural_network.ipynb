{
 "cells": [
  {
   "cell_type": "code",
   "execution_count": 1,
   "id": "2c66500e",
   "metadata": {},
   "outputs": [],
   "source": [
    "from sklearn import svm\n",
    "import os\n",
    "import numpy as np\n",
    "import tensorflow as tf\n",
    "from tensorflow import keras\n",
    "from tensorflow.keras import layers\n",
    "import cv2"
   ]
  },
  {
   "cell_type": "code",
   "execution_count": 2,
   "id": "60180b85",
   "metadata": {},
   "outputs": [],
   "source": [
    "paths=['datasets/train_folder/0','datasets/train_folder/1','datasets/test_folder/0','datasets/test_folder/1']\n",
    "IMG_SIZE = 50"
   ]
  },
  {
   "cell_type": "code",
   "execution_count": 3,
   "id": "5e2f3505",
   "metadata": {},
   "outputs": [],
   "source": [
    "train_paths=[]\n",
    "train_labels=[]\n",
    "train_data=[]\n",
    "test_paths=[]\n",
    "test_labels=[]\n",
    "test_data=[]"
   ]
  },
  {
   "cell_type": "code",
   "execution_count": 4,
   "id": "235d1173",
   "metadata": {},
   "outputs": [],
   "source": [
    "for _ in os.listdir(paths[0]):\n",
    "    train_paths.append(paths[0]+'/'+_)\n",
    "    train_labels.append(0)\n",
    "for _ in os.listdir(paths[1]):\n",
    "    train_paths.append(paths[1]+'/'+_)\n",
    "    train_labels.append(1)"
   ]
  },
  {
   "cell_type": "code",
   "execution_count": 5,
   "id": "7addb094",
   "metadata": {},
   "outputs": [],
   "source": [
    "for _ in os.listdir(paths[2]):\n",
    "    test_paths.append(paths[2]+'/'+_)\n",
    "    test_labels.append(0)\n",
    "for _ in os.listdir(paths[3]):\n",
    "    test_paths.append(paths[3]+'/'+_)\n",
    "    test_labels.append(1)"
   ]
  },
  {
   "cell_type": "code",
   "execution_count": 6,
   "id": "14842436",
   "metadata": {},
   "outputs": [],
   "source": [
    "for _ in range(len(train_paths)):\n",
    "    img = cv2.imread(train_paths[_], cv2.IMREAD_GRAYSCALE)\n",
    "    img = cv2.resize(img, (IMG_SIZE, IMG_SIZE))\n",
    "    train_data.append(np.array(img))"
   ]
  },
  {
   "cell_type": "code",
   "execution_count": 7,
   "id": "3ac27147",
   "metadata": {},
   "outputs": [],
   "source": [
    "for _ in test_paths:\n",
    "    img = cv2.imread(_, cv2.IMREAD_GRAYSCALE)\n",
    "    img = cv2.resize(img, (IMG_SIZE, IMG_SIZE))\n",
    "    test_data.append(np.array(img))"
   ]
  },
  {
   "cell_type": "code",
   "execution_count": 8,
   "id": "6dfabb33",
   "metadata": {},
   "outputs": [],
   "source": [
    "train_data=np.array(train_data)\n",
    "train_labels=np.array(train_labels)\n",
    "test_data=np.array(test_data)\n",
    "test_labels=np.array(test_labels)\n",
    "train_data=train_data/255.0\n",
    "test_data=test_data/255.0"
   ]
  },
  {
   "cell_type": "code",
   "execution_count": 9,
   "id": "a5ec7232",
   "metadata": {},
   "outputs": [],
   "source": [
    "train_data=train_data.flatten().reshape(-1,IMG_SIZE*IMG_SIZE)\n",
    "test_data=test_data.flatten().reshape(-1,IMG_SIZE*IMG_SIZE)"
   ]
  },
  {
   "cell_type": "code",
   "execution_count": 10,
   "id": "4fbeb985",
   "metadata": {},
   "outputs": [],
   "source": [
    "model=keras.Sequential([\n",
    "    keras.Input(shape=(IMG_SIZE*IMG_SIZE)),\n",
    "    layers.Dense(2500, activation='relu'),\n",
    "    layers.Dense(50, activation='relu'),\n",
    "    layers.Dense(2, activation='softmax')\n",
    "])"
   ]
  },
  {
   "cell_type": "code",
   "execution_count": 11,
   "id": "c37f0d52",
   "metadata": {},
   "outputs": [],
   "source": [
    "model.compile(optimizer=keras.optimizers.Adam(learning_rate=0.001), loss=keras.losses.SparseCategoricalCrossentropy(from_logits=True), metrics=['accuracy'])"
   ]
  },
  {
   "cell_type": "code",
   "execution_count": 12,
   "id": "781afb55",
   "metadata": {},
   "outputs": [
    {
     "name": "stdout",
     "output_type": "stream",
     "text": [
      "Epoch 1/10\n"
     ]
    },
    {
     "name": "stderr",
     "output_type": "stream",
     "text": [
      "C:\\Users\\user\\anaconda3\\lib\\site-packages\\tensorflow\\python\\util\\dispatch.py:1096: UserWarning: \"`sparse_categorical_crossentropy` received `from_logits=True`, but the `output` argument was produced by a sigmoid or softmax activation and thus does not represent logits. Was this intended?\"\n",
      "  return dispatch_target(*args, **kwargs)\n"
     ]
    },
    {
     "name": "stdout",
     "output_type": "stream",
     "text": [
      "560/560 - 14s - loss: 0.8623 - accuracy: 0.5736 - 14s/epoch - 25ms/step\n",
      "Epoch 2/10\n",
      "560/560 - 13s - loss: 0.6477 - accuracy: 0.6279 - 13s/epoch - 23ms/step\n",
      "Epoch 3/10\n",
      "560/560 - 13s - loss: 0.6156 - accuracy: 0.6718 - 13s/epoch - 24ms/step\n",
      "Epoch 4/10\n",
      "560/560 - 14s - loss: 0.5748 - accuracy: 0.7050 - 14s/epoch - 25ms/step\n",
      "Epoch 5/10\n",
      "560/560 - 13s - loss: 0.5421 - accuracy: 0.7214 - 13s/epoch - 23ms/step\n",
      "Epoch 6/10\n",
      "560/560 - 12s - loss: 0.5217 - accuracy: 0.7411 - 12s/epoch - 22ms/step\n",
      "Epoch 7/10\n",
      "560/560 - 13s - loss: 0.5005 - accuracy: 0.7671 - 13s/epoch - 23ms/step\n",
      "Epoch 8/10\n",
      "560/560 - 12s - loss: 0.4935 - accuracy: 0.7636 - 12s/epoch - 22ms/step\n",
      "Epoch 9/10\n",
      "560/560 - 12s - loss: 0.4800 - accuracy: 0.7746 - 12s/epoch - 21ms/step\n",
      "Epoch 10/10\n",
      "560/560 - 12s - loss: 0.4680 - accuracy: 0.7854 - 12s/epoch - 22ms/step\n"
     ]
    },
    {
     "data": {
      "text/plain": [
       "<keras.callbacks.History at 0x2c0ddd3c640>"
      ]
     },
     "execution_count": 12,
     "metadata": {},
     "output_type": "execute_result"
    }
   ],
   "source": [
    "model.fit(train_data, train_labels, batch_size=5,epochs=10,verbose=2)"
   ]
  },
  {
   "cell_type": "code",
   "execution_count": 13,
   "id": "da6e3e69",
   "metadata": {},
   "outputs": [
    {
     "name": "stdout",
     "output_type": "stream",
     "text": [
      "38/38 - 1s - loss: 0.5277 - accuracy: 0.7458 - 512ms/epoch - 13ms/step\n"
     ]
    },
    {
     "data": {
      "text/plain": [
       "[0.5276961326599121, 0.7458333373069763]"
      ]
     },
     "execution_count": 13,
     "metadata": {},
     "output_type": "execute_result"
    }
   ],
   "source": [
    "model.evaluate(test_data, test_labels, batch_size=32,verbose=2)"
   ]
  },
  {
   "cell_type": "code",
   "execution_count": 14,
   "id": "1aa778a6",
   "metadata": {},
   "outputs": [
    {
     "data": {
      "text/plain": [
       "array([[0.23647393, 0.76352614]], dtype=float32)"
      ]
     },
     "execution_count": 14,
     "metadata": {},
     "output_type": "execute_result"
    }
   ],
   "source": [
    "model.predict(test_data[1123].reshape(1,-1))"
   ]
  },
  {
   "cell_type": "code",
   "execution_count": 15,
   "id": "0b721712",
   "metadata": {},
   "outputs": [
    {
     "name": "stdout",
     "output_type": "stream",
     "text": [
      "INFO:tensorflow:Assets written to: SNN\\assets\n"
     ]
    }
   ],
   "source": [
    "model.save('SNN')"
   ]
  },
  {
   "cell_type": "code",
   "execution_count": 16,
   "id": "0f2f6fec",
   "metadata": {},
   "outputs": [
    {
     "data": {
      "image/png": "[encoded data removed]",
      "text/plain": [
       "<Figure size 432x288 with 2 Axes>"
      ]
     },
     "metadata": {},
     "output_type": "display_data"
    }
   ],
   "source": [
    "from sklearn.metrics import confusion_matrix\n",
    "import pandas as pd\n",
    "import seaborn as sn\n",
    "import matplotlib.pyplot as plt\n",
    "predict=model.predict(test_data)\n",
    "predict=np.argmax(predict,axis=1)\n",
    "matrix=confusion_matrix(predict,test_labels)\n",
    "df_cm = pd.DataFrame(matrix, range(2), range(2))\n",
    "# plt.figure(figsize=(10,7))\n",
    "sn.set(font_scale=1.4) # for label size\n",
    "sn.heatmap(df_cm, annot=True,annot_kws={\"size\": 16},fmt='g') # font size\n",
    "plt.show()"
   ]
  },
  {
   "cell_type": "code",
   "execution_count": 17,
   "id": "4ce83fc5",
   "metadata": {},
   "outputs": [],
   "source": [
    "#test_mode=tf.keras.models.load_model('model')"
   ]
  },
  {
   "cell_type": "code",
   "execution_count": 18,
   "id": "fb2b029d",
   "metadata": {},
   "outputs": [],
   "source": [
    "#test_mode.predict(test_data[10].reshape(1,-1))"
   ]
  }
 ],
 "metadata": {
  "kernelspec": {
   "display_name": "Python 3",
   "language": "python",
   "name": "python3"
  },
  "language_info": {
   "codemirror_mode": {
    "name": "ipython",
    "version": 3
   },
   "file_extension": ".py",
   "mimetype": "text/x-python",
   "name": "python",
   "nbconvert_exporter": "python",
   "pygments_lexer": "ipython3",
   "version": "3.8.8"
  }
 },
 "nbformat": 4,
 "nbformat_minor": 5
}
