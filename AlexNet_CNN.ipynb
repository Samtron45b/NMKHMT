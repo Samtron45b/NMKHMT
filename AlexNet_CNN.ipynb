{
 "cells": [
  {
   "cell_type": "code",
   "execution_count": 17,
   "id": "0087f58b",
   "metadata": {},
   "outputs": [
    {
     "ename": "ModuleNotFoundError",
     "evalue": "No module named 'tensorflow_addons'",
     "output_type": "error",
     "traceback": [
      "\u001b[1;31m---------------------------------------------------------------------------\u001b[0m",
      "\u001b[1;31mModuleNotFoundError\u001b[0m                       Traceback (most recent call last)",
      "\u001b[1;32m~\\AppData\\Local\\Temp/ipykernel_1588/526941577.py\u001b[0m in \u001b[0;36m<module>\u001b[1;34m\u001b[0m\n\u001b[0;32m      6\u001b[0m \u001b[1;32mfrom\u001b[0m \u001b[0mIPython\u001b[0m\u001b[1;33m.\u001b[0m\u001b[0mdisplay\u001b[0m \u001b[1;32mimport\u001b[0m \u001b[0mclear_output\u001b[0m\u001b[1;33m\u001b[0m\u001b[1;33m\u001b[0m\u001b[0m\n\u001b[0;32m      7\u001b[0m \u001b[1;32mfrom\u001b[0m \u001b[0mimutils\u001b[0m \u001b[1;32mimport\u001b[0m \u001b[0mpaths\u001b[0m\u001b[1;33m\u001b[0m\u001b[1;33m\u001b[0m\u001b[0m\n\u001b[1;32m----> 8\u001b[1;33m \u001b[1;32mimport\u001b[0m \u001b[0mtensorflow_addons\u001b[0m \u001b[1;32mas\u001b[0m \u001b[0mtfa\u001b[0m\u001b[1;33m\u001b[0m\u001b[1;33m\u001b[0m\u001b[0m\n\u001b[0m\u001b[0;32m      9\u001b[0m \u001b[1;32mimport\u001b[0m \u001b[0mmatplotlib\u001b[0m\u001b[1;33m.\u001b[0m\u001b[0mpyplot\u001b[0m \u001b[1;32mas\u001b[0m \u001b[0mplt\u001b[0m\u001b[1;33m\u001b[0m\u001b[1;33m\u001b[0m\u001b[0m\n\u001b[0;32m     10\u001b[0m \u001b[1;32mimport\u001b[0m \u001b[0mnumpy\u001b[0m \u001b[1;32mas\u001b[0m \u001b[0mnp\u001b[0m\u001b[1;33m\u001b[0m\u001b[1;33m\u001b[0m\u001b[0m\n",
      "\u001b[1;31mModuleNotFoundError\u001b[0m: No module named 'tensorflow_addons'"
     ]
    }
   ],
   "source": [
    "from sklearn.preprocessing import LabelEncoder\n",
    "from sklearn.metrics import classification_report, confusion_matrix\n",
    "from keras.preprocessing.image import img_to_array\n",
    "from keras.utils import np_utils\n",
    "from AlexNet import AlexNet\n",
    "from IPython.display import clear_output\n",
    "from imutils import paths\n",
    "import matplotlib.pyplot as plt\n",
    "import numpy as np\n",
    "import argparse\n",
    "import imutils\n",
    "import cv2\n",
    "import os\n",
    "import seaborn as sn\n",
    "import pandas as pd"
   ]
  },
  {
   "cell_type": "code",
   "execution_count": 2,
   "id": "87dfd3fa",
   "metadata": {},
   "outputs": [],
   "source": [
    "def importImages(dir, label):\n",
    "    paths = os.listdir(dir)\n",
    "    x = []\n",
    "    y = []\n",
    "    \n",
    "    for imagePath in paths:\n",
    "        clear_output(wait=True)\n",
    "        print(imagePath)\n",
    "\n",
    "        # load the image, pre-process it, and store it in the data list\n",
    "        image = cv2.imread(dir + \"/\" + imagePath)\n",
    "        image = cv2.cvtColor(image, cv2.COLOR_BGR2GRAY)\n",
    "        image = imutils.resize(image, width=28)\n",
    "        image = img_to_array(image)\n",
    "        \n",
    "        x.append(image)\n",
    "        y.append(label)\n",
    "\n",
    "    print(\"Total:\", len(paths))\n",
    "    return x, y"
   ]
  },
  {
   "cell_type": "code",
   "execution_count": 3,
   "id": "fbf8cd88",
   "metadata": {},
   "outputs": [],
   "source": [
    "# scale the raw pixel intensities to the range [0, 1]\n",
    "def convert(x, y):\n",
    "    x = np.array(x, dtype=\"float\") / 255.0\n",
    "    y = np.array(y)\n",
    "    return x, y"
   ]
  },
  {
   "cell_type": "code",
   "execution_count": 4,
   "id": "484197bd",
   "metadata": {},
   "outputs": [
    {
     "name": "stdout",
     "output_type": "stream",
     "text": [
      "file3395.jpg\n"
     ]
    }
   ],
   "source": [
    "trainX, trainY = importImages(\"./datasets/train_folder/0\", \"not_smiling\")"
   ]
  },
  {
   "cell_type": "code",
   "execution_count": 5,
   "id": "7b911647",
   "metadata": {},
   "outputs": [
    {
     "name": "stdout",
     "output_type": "stream",
     "text": [
      "file1562.jpg\n",
      "Total: 1562\n"
     ]
    }
   ],
   "source": [
    "x, y = importImages(\"./datasets/train_folder/1\", \"smiling\");\n",
    "trainX += x\n",
    "trainY += y\n",
    "trainX, trainY = convert(trainX, trainY)"
   ]
  },
  {
   "cell_type": "code",
   "execution_count": 6,
   "id": "1059a434",
   "metadata": {},
   "outputs": [
    {
     "name": "stdout",
     "output_type": "stream",
     "text": [
      "file3694.jpg\n"
     ]
    }
   ],
   "source": [
    "testX, testY = importImages(\"./datasets/test_folder/0\", \"not_smiling\")"
   ]
  },
  {
   "cell_type": "code",
   "execution_count": 7,
   "id": "bd182fcb",
   "metadata": {},
   "outputs": [
    {
     "name": "stdout",
     "output_type": "stream",
     "text": [
      "file2150.jpg\n"
     ]
    }
   ],
   "source": [
    "x, y = importImages(\"./datasets/test_folder/1\", \"smiling\");\n",
    "testX += x\n",
    "testY += y\n",
    "testX, testY = convert(testX, testY)"
   ]
  },
  {
   "cell_type": "code",
   "execution_count": 8,
   "id": "81f7a9ec",
   "metadata": {},
   "outputs": [],
   "source": [
    "# convert the labels from integers to vectors\n",
    "le = LabelEncoder().fit(trainY)\n",
    "trainY = np_utils.to_categorical(le.transform(trainY), 2)\n",
    "testY = np_utils.to_categorical(le.transform(testY), 2)"
   ]
  },
  {
   "cell_type": "code",
   "execution_count": 9,
   "id": "ab356331",
   "metadata": {},
   "outputs": [],
   "source": [
    "# account for skew in the labeled data\n",
    "classTotals = trainY.sum(axis=0)\n",
    "classWeight = classTotals.max() / classTotals\n",
    "classWeight = {i : classWeight[i] for i in range(len(classWeight))}\n",
    "classWeight"
   ]
  },
  {
   "cell_type": "code",
   "execution_count": 18,
   "id": "925de068",
   "metadata": {},
   "outputs": [
    {
     "name": "stdout",
     "output_type": "stream",
     "text": [
      "[INFO] compiling model...\n"
     ]
    }
   ],
   "source": [
    "# initialize the model\n",
    "print(\"[INFO] compiling model...\")\n",
    "model = AlexNet.build(width=28, height=28, depth=1, classes=2)\n",
    "model.compile(loss=\"binary_crossentropy\", optimizer=\"adam\", metrics=[\"accuracy\"])"
   ]
  },
  {
   "cell_type": "code",
   "execution_count": 19,
   "id": "e04ad5aa",
   "metadata": {},
   "outputs": [
    {
     "name": "stdout",
     "output_type": "stream",
     "text": [
      "[INFO] training network...\n",
      "Epoch 1/30\n",
      "44/44 [==============================] - 66s 1s/step - loss: 0.7102 - accuracy: 0.6425 - val_loss: 0.7674 - val_accuracy: 0.5000\n",
      "Epoch 2/30\n",
      "44/44 [==============================] - 65s 1s/step - loss: 0.5831 - accuracy: 0.7536 - val_loss: 0.9567 - val_accuracy: 0.5000\n",
      "Epoch 3/30\n",
      "44/44 [==============================] - 72s 2s/step - loss: 0.5244 - accuracy: 0.8057 - val_loss: 0.8854 - val_accuracy: 0.5000\n",
      "Epoch 4/30\n",
      "44/44 [==============================] - 60s 1s/step - loss: 0.4762 - accuracy: 0.8471 - val_loss: 0.8982 - val_accuracy: 0.5000\n",
      "Epoch 5/30\n",
      "44/44 [==============================] - 59s 1s/step - loss: 0.4663 - accuracy: 0.8514 - val_loss: 1.0643 - val_accuracy: 0.5000\n",
      "Epoch 6/30\n",
      "44/44 [==============================] - 59s 1s/step - loss: 0.4414 - accuracy: 0.8600 - val_loss: 0.7211 - val_accuracy: 0.5292\n",
      "Epoch 7/30\n",
      "44/44 [==============================] - 59s 1s/step - loss: 0.4210 - accuracy: 0.8739 - val_loss: 0.9969 - val_accuracy: 0.5000\n",
      "Epoch 8/30\n",
      "44/44 [==============================] - 59s 1s/step - loss: 0.3924 - accuracy: 0.8975 - val_loss: 0.8111 - val_accuracy: 0.5192\n",
      "Epoch 9/30\n",
      "44/44 [==============================] - 59s 1s/step - loss: 0.3880 - accuracy: 0.8939 - val_loss: 0.6061 - val_accuracy: 0.6475\n",
      "Epoch 10/30\n",
      "44/44 [==============================] - 59s 1s/step - loss: 0.3731 - accuracy: 0.9029 - val_loss: 0.8834 - val_accuracy: 0.5042\n",
      "Epoch 11/30\n",
      "44/44 [==============================] - 59s 1s/step - loss: 0.3638 - accuracy: 0.9018 - val_loss: 0.6305 - val_accuracy: 0.6742\n",
      "Epoch 12/30\n",
      "44/44 [==============================] - 59s 1s/step - loss: 0.3617 - accuracy: 0.8996 - val_loss: 0.5091 - val_accuracy: 0.7417\n",
      "Epoch 13/30\n",
      "44/44 [==============================] - 59s 1s/step - loss: 0.3423 - accuracy: 0.9079 - val_loss: 0.7587 - val_accuracy: 0.6025\n",
      "Epoch 14/30\n",
      "44/44 [==============================] - 59s 1s/step - loss: 0.3162 - accuracy: 0.9304 - val_loss: 0.4294 - val_accuracy: 0.8117\n",
      "Epoch 15/30\n",
      "44/44 [==============================] - 59s 1s/step - loss: 0.3296 - accuracy: 0.9129 - val_loss: 0.4744 - val_accuracy: 0.7742\n",
      "Epoch 16/30\n",
      "44/44 [==============================] - 59s 1s/step - loss: 0.3066 - accuracy: 0.9279 - val_loss: 0.6787 - val_accuracy: 0.6517\n",
      "Epoch 17/30\n",
      "44/44 [==============================] - 59s 1s/step - loss: 0.2954 - accuracy: 0.9311 - val_loss: 0.4086 - val_accuracy: 0.8117\n",
      "Epoch 18/30\n",
      "44/44 [==============================] - 59s 1s/step - loss: 0.2827 - accuracy: 0.9339 - val_loss: 0.5625 - val_accuracy: 0.7275\n",
      "Epoch 19/30\n",
      "44/44 [==============================] - 59s 1s/step - loss: 0.2774 - accuracy: 0.9382 - val_loss: 0.4474 - val_accuracy: 0.7942\n",
      "Epoch 20/30\n",
      "44/44 [==============================] - 58s 1s/step - loss: 0.2793 - accuracy: 0.9321 - val_loss: 0.6533 - val_accuracy: 0.6942\n",
      "Epoch 21/30\n",
      "44/44 [==============================] - 59s 1s/step - loss: 0.2704 - accuracy: 0.9343 - val_loss: 1.0166 - val_accuracy: 0.5342\n",
      "Epoch 22/30\n",
      "44/44 [==============================] - 59s 1s/step - loss: 0.2570 - accuracy: 0.9407 - val_loss: 0.4337 - val_accuracy: 0.8067\n",
      "Epoch 23/30\n",
      "44/44 [==============================] - 74s 2s/step - loss: 0.2397 - accuracy: 0.9496 - val_loss: 0.6475 - val_accuracy: 0.6883\n",
      "Epoch 24/30\n",
      "44/44 [==============================] - 66s 2s/step - loss: 0.2453 - accuracy: 0.9382 - val_loss: 0.4650 - val_accuracy: 0.7942\n",
      "Epoch 25/30\n",
      "44/44 [==============================] - 73s 2s/step - loss: 0.2506 - accuracy: 0.9386 - val_loss: 0.3996 - val_accuracy: 0.8375\n",
      "Epoch 26/30\n",
      "44/44 [==============================] - 65s 1s/step - loss: 0.2343 - accuracy: 0.9479 - val_loss: 0.4494 - val_accuracy: 0.8042\n",
      "Epoch 27/30\n",
      "44/44 [==============================] - 78s 2s/step - loss: 0.2422 - accuracy: 0.9404 - val_loss: 0.6723 - val_accuracy: 0.6592\n",
      "Epoch 28/30\n",
      "44/44 [==============================] - 69s 2s/step - loss: 0.2101 - accuracy: 0.9543 - val_loss: 0.4928 - val_accuracy: 0.7850\n",
      "Epoch 29/30\n",
      "44/44 [==============================] - 80s 2s/step - loss: 0.2236 - accuracy: 0.9439 - val_loss: 0.4221 - val_accuracy: 0.8225\n",
      "Epoch 30/30\n",
      "44/44 [==============================] - 74s 2s/step - loss: 0.2024 - accuracy: 0.9546 - val_loss: 0.6035 - val_accuracy: 0.7367\n"
     ]
    }
   ],
   "source": [
    "# train the network\n",
    "print(\"[INFO] training network...\")\n",
    "H = model.fit(trainX, trainY, validation_data=(testX, testY), class_weight=classWeight, batch_size=64, epochs=30, verbose=1)"
   ]
  },
  {
   "cell_type": "code",
   "execution_count": 20,
   "id": "0e78ee04",
   "metadata": {},
   "outputs": [
    {
     "name": "stdout",
     "output_type": "stream",
     "text": [
      "[INFO] evaluating network...\n",
      "38/38 - 7s - 7s/epoch - 175ms/step\n",
      "              precision    recall  f1-score   support\n",
      "\n",
      " not_smiling       0.66      0.97      0.79       600\n",
      "     smiling       0.94      0.51      0.66       600\n",
      "\n",
      "    accuracy                           0.74      1200\n",
      "   macro avg       0.80      0.74      0.72      1200\n",
      "weighted avg       0.80      0.74      0.72      1200\n",
      "\n"
     ]
    }
   ],
   "source": [
    "# evaluate the network\n",
    "print(\"[INFO] evaluating network...\")\n",
    "predictions = model.predict(testX, verbose=2)\n",
    "print(classification_report(testY.argmax(axis=1), predictions.argmax(axis=1), target_names=le.classes_))"
   ]
  },
  {
   "cell_type": "code",
   "execution_count": 21,
   "id": "328adb6c",
   "metadata": {},
   "outputs": [
    {
     "data": {
      "text/plain": [
       "<AxesSubplot:>"
      ]
     },
     "execution_count": 21,
     "metadata": {},
     "output_type": "execute_result"
    },
    {
     "data": {
      "image/png": "[encoded data removed]",
      "text/plain": [
       "<Figure size 432x288 with 2 Axes>"
      ]
     },
     "metadata": {},
     "output_type": "display_data"
    }
   ],
   "source": [
    "matrix = confusion_matrix(predictions.argmax(axis=1), testY.argmax(axis=1))\n",
    "df_cm = pd.DataFrame(matrix, [\"smiling\", \"not_smiling\"], [\"smiling\", \"not_smiling\"])\n",
    "# plt.figure(figsize=(10,7))\n",
    "sn.set(font_scale=1.4) # for label size\n",
    "sn.heatmap(df_cm, annot=True, annot_kws={\"size\": 16}, fmt=\"g\") # font size"
   ]
  },
  {
   "cell_type": "code",
   "execution_count": 22,
   "id": "0a768085",
   "metadata": {
    "scrolled": true
   },
   "outputs": [
    {
     "name": "stdout",
     "output_type": "stream",
     "text": [
      "[INFO] serializing network...\n",
      "INFO:tensorflow:Assets written to: ./models/AlexNet\\assets\n"
     ]
    }
   ],
   "source": [
    "# save the model to disk\n",
    "print(\"[INFO] serializing network...\")\n",
    "model.save(\"./models/AlexNet\")"
   ]
  },
  {
   "cell_type": "code",
   "execution_count": 24,
   "id": "7dc30499",
   "metadata": {},
   "outputs": [
    {
     "data": {
      "image/png": "[encoded data removed]",
      "text/plain": [
       "<Figure size 432x288 with 1 Axes>"
      ]
     },
     "metadata": {},
     "output_type": "display_data"
    }
   ],
   "source": [
    "# plot the training + testing loss and accuracy\n",
    "plt.style.use(\"ggplot\")\n",
    "plt.figure()\n",
    "plt.plot(np.arange(0, 30), H.history[\"loss\"], label=\"train_loss\")\n",
    "plt.plot(np.arange(0, 30), H.history[\"val_loss\"], label=\"val_loss\")\n",
    "plt.plot(np.arange(0, 30), H.history[\"accuracy\"], label=\"acc\")\n",
    "plt.plot(np.arange(0, 30), H.history[\"val_accuracy\"], label=\"val_acc\")\n",
    "plt.title(\"Training Loss and Accuracy\")\n",
    "plt.xlabel(\"Epoch #\")\n",
    "plt.ylabel(\"Loss/Accuracy\")\n",
    "plt.legend()\n",
    "plt.show()"
   ]
  },
  {
   "cell_type": "code",
   "execution_count": null,
   "id": "3286b559",
   "metadata": {},
   "outputs": [],
   "source": []
  }
 ],
 "metadata": {
  "kernelspec": {
   "display_name": "Python 3 (ipykernel)",
   "language": "python",
   "name": "python3"
  },
  "language_info": {
   "codemirror_mode": {
    "name": "ipython",
    "version": 3
   },
   "file_extension": ".py",
   "mimetype": "text/x-python",
   "name": "python",
   "nbconvert_exporter": "python",
   "pygments_lexer": "ipython3",
   "version": "3.8.8"
  }
 },
 "nbformat": 4,
 "nbformat_minor": 5
}
