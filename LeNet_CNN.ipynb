{
 "cells": [
  {
   "cell_type": "code",
   "execution_count": 1,
   "id": "0087f58b",
   "metadata": {},
   "outputs": [],
   "source": [
    "from sklearn.preprocessing import LabelEncoder\n",
    "from sklearn.metrics import classification_report, confusion_matrix\n",
    "from keras.preprocessing.image import img_to_array\n",
    "from keras.utils import np_utils\n",
    "from LeNet import LeNet\n",
    "from IPython.display import clear_output\n",
    "from imutils import paths\n",
    "import matplotlib.pyplot as plt\n",
    "import numpy as np\n",
    "import argparse\n",
    "import imutils\n",
    "import cv2\n",
    "import os\n",
    "import seaborn as sn\n",
    "import pandas as pd"
   ]
  },
  {
   "cell_type": "code",
   "execution_count": 2,
   "id": "87dfd3fa",
   "metadata": {},
   "outputs": [],
   "source": [
    "def importImages(dir, label):\n",
    "    paths = os.listdir(dir)\n",
    "    x = []\n",
    "    y = []\n",
    "    \n",
    "    for imagePath in paths:\n",
    "        clear_output(wait=True)\n",
    "        print(imagePath)\n",
    "\n",
    "        # load the image, pre-process it, and store it in the data list\n",
    "        image = cv2.imread(dir + \"/\" + imagePath)\n",
    "        image = cv2.cvtColor(image, cv2.COLOR_BGR2GRAY)\n",
    "        image = imutils.resize(image, width=28)\n",
    "        image = img_to_array(image)\n",
    "        \n",
    "        x.append(image)\n",
    "        y.append(label)\n",
    "\n",
    "    print(\"Total:\", len(paths))\n",
    "    return x, y"
   ]
  },
  {
   "cell_type": "code",
   "execution_count": 3,
   "id": "fbf8cd88",
   "metadata": {},
   "outputs": [],
   "source": [
    "# scale the raw pixel intensities to the range [0, 1]\n",
    "def convert(x, y):\n",
    "    x = np.array(x, dtype=\"float\") / 255.0\n",
    "    y = np.array(y)\n",
    "    return x, y"
   ]
  },
  {
   "cell_type": "code",
   "execution_count": 4,
   "id": "484197bd",
   "metadata": {},
   "outputs": [
    {
     "name": "stdout",
     "output_type": "stream",
     "text": [
      "file3400.jpg\n",
      "Total: 1238\n"
     ]
    }
   ],
   "source": [
    "trainX, trainY = importImages(\"./datasets/train_folder/0\", \"not_smiling\")"
   ]
  },
  {
   "cell_type": "code",
   "execution_count": 5,
   "id": "7b911647",
   "metadata": {},
   "outputs": [
    {
     "name": "stdout",
     "output_type": "stream",
     "text": [
      "file1562.jpg\n",
      "Total: 1562\n"
     ]
    }
   ],
   "source": [
    "x, y = importImages(\"./datasets/train_folder/1\", \"smiling\");\n",
    "trainX += x\n",
    "trainY += y\n",
    "trainX, trainY = convert(trainX, trainY)"
   ]
  },
  {
   "cell_type": "code",
   "execution_count": 6,
   "id": "1059a434",
   "metadata": {},
   "outputs": [
    {
     "name": "stdout",
     "output_type": "stream",
     "text": [
      "file3923.jpg\n"
     ]
    }
   ],
   "source": [
    "testX, testY = importImages(\"./datasets/test_folder/0\", \"not_smiling\")"
   ]
  },
  {
   "cell_type": "code",
   "execution_count": 7,
   "id": "bd182fcb",
   "metadata": {},
   "outputs": [
    {
     "name": "stdout",
     "output_type": "stream",
     "text": [
      "file2162.jpg\n",
      "Total: 600\n"
     ]
    }
   ],
   "source": [
    "x, y = importImages(\"./datasets/test_folder/1\", \"smiling\")\n",
    "testX += x\n",
    "testY += y\n",
    "testX, testY = convert(testX, testY)"
   ]
  },
  {
   "cell_type": "code",
   "execution_count": 8,
   "id": "81f7a9ec",
   "metadata": {},
   "outputs": [],
   "source": [
    "# convert the labels from integers to vectors\n",
    "le = LabelEncoder().fit(trainY)\n",
    "trainY = np_utils.to_categorical(le.transform(trainY), 2)\n",
    "testY = np_utils.to_categorical(le.transform(testY), 2)"
   ]
  },
  {
   "cell_type": "code",
   "execution_count": 9,
   "id": "ab356331",
   "metadata": {},
   "outputs": [
    {
     "data": {
      "text/plain": [
       "{0: 1.2617124, 1: 1.0}"
      ]
     },
     "execution_count": 9,
     "metadata": {},
     "output_type": "execute_result"
    }
   ],
   "source": [
    "# account for skew in the labeled data\n",
    "classTotals = trainY.sum(axis=0)\n",
    "classWeight = classTotals.max() / classTotals\n",
    "classWeight = {i : classWeight[i] for i in range(len(classWeight))}\n",
    "classWeight"
   ]
  },
  {
   "cell_type": "code",
   "execution_count": 10,
   "id": "925de068",
   "metadata": {},
   "outputs": [
    {
     "name": "stdout",
     "output_type": "stream",
     "text": [
      "[INFO] compiling model...\n"
     ]
    }
   ],
   "source": [
    "# initialize the model\n",
    "print(\"[INFO] compiling model...\")\n",
    "model = LeNet.build(width=28, height=28, depth=1, classes=2)\n",
    "model.compile(loss=\"binary_crossentropy\", optimizer=\"adam\", metrics=[\"accuracy\"])"
   ]
  },
  {
   "cell_type": "code",
   "execution_count": 11,
   "id": "e04ad5aa",
   "metadata": {},
   "outputs": [
    {
     "name": "stdout",
     "output_type": "stream",
     "text": [
      "[INFO] training network...\n",
      "Epoch 1/25\n",
      "44/44 [==============================] - 9s 187ms/step - loss: 0.7587 - accuracy: 0.5457 - val_loss: 0.6612 - val_accuracy: 0.6158\n",
      "Epoch 2/25\n",
      "44/44 [==============================] - 7s 166ms/step - loss: 0.6867 - accuracy: 0.6704 - val_loss: 0.5813 - val_accuracy: 0.7125\n",
      "Epoch 3/25\n",
      "44/44 [==============================] - 8s 180ms/step - loss: 0.5551 - accuracy: 0.7671 - val_loss: 0.4503 - val_accuracy: 0.8092\n",
      "Epoch 4/25\n",
      "44/44 [==============================] - 8s 192ms/step - loss: 0.4560 - accuracy: 0.8289 - val_loss: 0.3926 - val_accuracy: 0.8250\n",
      "Epoch 5/25\n",
      "44/44 [==============================] - 9s 206ms/step - loss: 0.3998 - accuracy: 0.8450 - val_loss: 0.4124 - val_accuracy: 0.8208\n",
      "Epoch 6/25\n",
      "44/44 [==============================] - 9s 200ms/step - loss: 0.3744 - accuracy: 0.8589 - val_loss: 0.3702 - val_accuracy: 0.8483\n",
      "Epoch 7/25\n",
      "44/44 [==============================] - 10s 230ms/step - loss: 0.3570 - accuracy: 0.8696 - val_loss: 0.3333 - val_accuracy: 0.8633\n",
      "Epoch 8/25\n",
      "44/44 [==============================] - 9s 207ms/step - loss: 0.3230 - accuracy: 0.8821 - val_loss: 0.3512 - val_accuracy: 0.8508\n",
      "Epoch 9/25\n",
      "44/44 [==============================] - 10s 226ms/step - loss: 0.3080 - accuracy: 0.8811 - val_loss: 0.3413 - val_accuracy: 0.8550\n",
      "Epoch 10/25\n",
      "44/44 [==============================] - 11s 245ms/step - loss: 0.2879 - accuracy: 0.8911 - val_loss: 0.3419 - val_accuracy: 0.8592\n",
      "Epoch 11/25\n",
      "44/44 [==============================] - 11s 248ms/step - loss: 0.2681 - accuracy: 0.8979 - val_loss: 0.3126 - val_accuracy: 0.8658\n",
      "Epoch 12/25\n",
      "44/44 [==============================] - 9s 197ms/step - loss: 0.2486 - accuracy: 0.9043 - val_loss: 0.3323 - val_accuracy: 0.8617\n",
      "Epoch 13/25\n",
      "44/44 [==============================] - 7s 170ms/step - loss: 0.2429 - accuracy: 0.9175 - val_loss: 0.3317 - val_accuracy: 0.8533\n",
      "Epoch 14/25\n",
      "44/44 [==============================] - 7s 167ms/step - loss: 0.2256 - accuracy: 0.9211 - val_loss: 0.3273 - val_accuracy: 0.8675\n",
      "Epoch 15/25\n",
      "44/44 [==============================] - 9s 195ms/step - loss: 0.2057 - accuracy: 0.9229 - val_loss: 0.3190 - val_accuracy: 0.8750\n",
      "Epoch 16/25\n",
      "44/44 [==============================] - 8s 185ms/step - loss: 0.1909 - accuracy: 0.9325 - val_loss: 0.3374 - val_accuracy: 0.8667\n",
      "Epoch 17/25\n",
      "44/44 [==============================] - 8s 192ms/step - loss: 0.1786 - accuracy: 0.9393 - val_loss: 0.3845 - val_accuracy: 0.8533\n",
      "Epoch 18/25\n",
      "44/44 [==============================] - 8s 179ms/step - loss: 0.1529 - accuracy: 0.9457 - val_loss: 0.3546 - val_accuracy: 0.8533\n",
      "Epoch 19/25\n",
      "44/44 [==============================] - 9s 208ms/step - loss: 0.1482 - accuracy: 0.9496 - val_loss: 0.4232 - val_accuracy: 0.8317\n",
      "Epoch 20/25\n",
      "44/44 [==============================] - 9s 216ms/step - loss: 0.1410 - accuracy: 0.9518 - val_loss: 0.3737 - val_accuracy: 0.8517\n",
      "Epoch 21/25\n",
      "44/44 [==============================] - 9s 207ms/step - loss: 0.1304 - accuracy: 0.9539 - val_loss: 0.3857 - val_accuracy: 0.8517\n",
      "Epoch 22/25\n",
      "44/44 [==============================] - 8s 192ms/step - loss: 0.1188 - accuracy: 0.9600 - val_loss: 0.3654 - val_accuracy: 0.8633\n",
      "Epoch 23/25\n",
      "44/44 [==============================] - 9s 195ms/step - loss: 0.0962 - accuracy: 0.9675 - val_loss: 0.4086 - val_accuracy: 0.8533\n",
      "Epoch 24/25\n",
      "44/44 [==============================] - 9s 198ms/step - loss: 0.0890 - accuracy: 0.9696 - val_loss: 0.4093 - val_accuracy: 0.8617\n",
      "Epoch 25/25\n",
      "44/44 [==============================] - 9s 202ms/step - loss: 0.0734 - accuracy: 0.9779 - val_loss: 0.4283 - val_accuracy: 0.8683\n"
     ]
    }
   ],
   "source": [
    "# train the network\n",
    "print(\"[INFO] training network...\")\n",
    "H = model.fit(trainX, trainY, validation_data=(testX, testY), class_weight=classWeight, batch_size=64, epochs=25, verbose=1)"
   ]
  },
  {
   "cell_type": "code",
   "execution_count": 12,
   "id": "0e78ee04",
   "metadata": {},
   "outputs": [
    {
     "name": "stdout",
     "output_type": "stream",
     "text": [
      "[INFO] evaluating network...\n",
      "38/38 - 1s - 1s/epoch - 31ms/step\n",
      "              precision    recall  f1-score   support\n",
      "\n",
      " not_smiling       0.85      0.90      0.87       600\n",
      "     smiling       0.89      0.83      0.86       600\n",
      "\n",
      "    accuracy                           0.87      1200\n",
      "   macro avg       0.87      0.87      0.87      1200\n",
      "weighted avg       0.87      0.87      0.87      1200\n",
      "\n"
     ]
    }
   ],
   "source": [
    "# evaluate the network\n",
    "print(\"[INFO] evaluating network...\")\n",
    "predictions = model.predict(testX, verbose=2)\n",
    "print(classification_report(testY.argmax(axis=1), predictions.argmax(axis=1), target_names=le.classes_))"
   ]
  },
  {
   "cell_type": "code",
   "execution_count": 13,
   "id": "328adb6c",
   "metadata": {},
   "outputs": [
    {
     "data": {
      "text/plain": [
       "<AxesSubplot:>"
      ]
     },
     "execution_count": 13,
     "metadata": {},
     "output_type": "execute_result"
    },
    {
     "data": {
      "image/png": "[encoded data removed]",
      "text/plain": [
       "<Figure size 432x288 with 2 Axes>"
      ]
     },
     "metadata": {},
     "output_type": "display_data"
    }
   ],
   "source": [
    "matrix = confusion_matrix(predictions.argmax(axis=1), testY.argmax(axis=1))\n",
    "df_cm = pd.DataFrame(matrix, [\"smiling\", \"not_smiling\"], [\"smiling\", \"not_smiling\"])\n",
    "# plt.figure(figsize=(10,7))\n",
    "sn.set(font_scale=1.4) # for label size\n",
    "sn.heatmap(df_cm, annot=True, annot_kws={\"size\": 16}, fmt=\"g\") # font size"
   ]
  },
  {
   "cell_type": "code",
   "execution_count": 14,
   "id": "0a768085",
   "metadata": {
    "scrolled": true
   },
   "outputs": [
    {
     "name": "stdout",
     "output_type": "stream",
     "text": [
      "[INFO] serializing network...\n",
      "INFO:tensorflow:Assets written to: ./model/LeNet\\assets\n"
     ]
    }
   ],
   "source": [
    "# save the model to disk\n",
    "print(\"[INFO] serializing network...\")\n",
    "model.save(\"./model/LeNet\")"
   ]
  },
  {
   "cell_type": "code",
   "execution_count": 16,
   "id": "7dc30499",
   "metadata": {},
   "outputs": [
    {
     "data": {
      "image/png": "[encoded data removed]",
      "text/plain": [
       "<Figure size 432x288 with 1 Axes>"
      ]
     },
     "metadata": {},
     "output_type": "display_data"
    }
   ],
   "source": [
    "# plot the training + testing loss and accuracy\n",
    "plt.style.use(\"ggplot\")\n",
    "plt.figure()\n",
    "plt.plot(np.arange(0, 25), H.history[\"loss\"], label=\"loss\")\n",
    "plt.plot(np.arange(0, 25), H.history[\"accuracy\"], label=\"accuracy\")\n",
    "plt.title(\"Training Loss and Accuracy\")\n",
    "plt.xlabel(\"Epoch #\")\n",
    "plt.ylabel(\"Loss/Accuracy\")\n",
    "plt.legend()\n",
    "plt.show()"
   ]
  },
  {
   "cell_type": "code",
   "execution_count": null,
   "id": "3286b559",
   "metadata": {},
   "outputs": [],
   "source": []
  }
 ],
 "metadata": {
  "kernelspec": {
   "display_name": "Python 3 (ipykernel)",
   "language": "python",
   "name": "python3"
  },
  "language_info": {
   "codemirror_mode": {
    "name": "ipython",
    "version": 3
   },
   "file_extension": ".py",
   "mimetype": "text/x-python",
   "name": "python",
   "nbconvert_exporter": "python",
   "pygments_lexer": "ipython3",
   "version": "3.8.8"
  }
 },
 "nbformat": 4,
 "nbformat_minor": 5
}
