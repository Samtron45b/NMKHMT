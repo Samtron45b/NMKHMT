{
 "cells": [
  {
   "cell_type": "code",
   "execution_count": 1,
   "id": "0087f58b",
   "metadata": {},
   "outputs": [],
   "source": [
    "from sklearn.preprocessing import LabelEncoder\n",
    "from sklearn.metrics import classification_report, confusion_matrix\n",
    "from keras.preprocessing.image import img_to_array\n",
    "from keras.utils import np_utils\n",
    "from LeNet import LeNet\n",
    "from IPython.display import clear_output\n",
    "from imutils import paths\n",
    "import matplotlib.pyplot as plt\n",
    "import numpy as np\n",
    "import argparse\n",
    "import imutils\n",
    "import cv2\n",
    "import os\n",
    "import seaborn as sn\n",
    "import pandas as pd"
   ]
  },
  {
   "cell_type": "code",
   "execution_count": 2,
   "id": "87dfd3fa",
   "metadata": {},
   "outputs": [],
   "source": [
    "def importImages(dir, label):\n",
    "    paths = os.listdir(dir)\n",
    "    x = []\n",
    "    y = []\n",
    "    \n",
    "    for imagePath in paths:\n",
    "        clear_output(wait=True)\n",
    "        print(imagePath)\n",
    "\n",
    "        # load the image, pre-process it, and store it in the data list\n",
    "        image = cv2.imread(dir + \"/\" + imagePath)\n",
    "        image = cv2.cvtColor(image, cv2.COLOR_BGR2GRAY)\n",
    "        image = imutils.resize(image, width=28)\n",
    "        image = img_to_array(image)\n",
    "        \n",
    "        x.append(image)\n",
    "        y.append(label)\n",
    "\n",
    "    print(\"Total:\", len(paths))\n",
    "    return x, y"
   ]
  },
  {
   "cell_type": "code",
   "execution_count": 3,
   "id": "fbf8cd88",
   "metadata": {},
   "outputs": [],
   "source": [
    "# scale the raw pixel intensities to the range [0, 1]\n",
    "def convert(x, y):\n",
    "    x = np.array(x, dtype=\"float\") / 255.0\n",
    "    y = np.array(y)\n",
    "    return x, y"
   ]
  },
  {
   "cell_type": "code",
   "execution_count": 4,
   "id": "484197bd",
   "metadata": {},
   "outputs": [
    {
     "name": "stdout",
     "output_type": "stream",
     "text": [
      "file3400.jpg\n",
      "Total: 1238\n"
     ]
    }
   ],
   "source": [
    "trainX, trainY = importImages(\"./datasets/train_folder/0\", \"not_smiling\")"
   ]
  },
  {
   "cell_type": "code",
   "execution_count": 5,
   "id": "7b911647",
   "metadata": {},
   "outputs": [
    {
     "name": "stdout",
     "output_type": "stream",
     "text": [
      "file1562.jpg\n",
      "Total: 1562\n"
     ]
    }
   ],
   "source": [
    "x, y = importImages(\"./datasets/train_folder/1\", \"smiling\");\n",
    "trainX += x\n",
    "trainY += y\n",
    "trainX, trainY = convert(trainX, trainY)"
   ]
  },
  {
   "cell_type": "code",
   "execution_count": 6,
   "id": "1059a434",
   "metadata": {},
   "outputs": [
    {
     "name": "stdout",
     "output_type": "stream",
     "text": [
      "file4000.jpg\n",
      "Total: 600\n"
     ]
    }
   ],
   "source": [
    "testX, testY = importImages(\"./datasets/test_folder/0\", \"not_smiling\")"
   ]
  },
  {
   "cell_type": "code",
   "execution_count": 7,
   "id": "bd182fcb",
   "metadata": {},
   "outputs": [
    {
     "name": "stdout",
     "output_type": "stream",
     "text": [
      "file2062.jpg\n"
     ]
    }
   ],
   "source": [
    "x, y = importImages(\"./datasets/test_folder/1\", \"smiling\");\n",
    "testX += x\n",
    "testY += y\n",
    "testX, testY = convert(testX, testY)"
   ]
  },
  {
   "cell_type": "code",
   "execution_count": 8,
   "id": "81f7a9ec",
   "metadata": {},
   "outputs": [],
   "source": [
    "# convert the labels from integers to vectors\n",
    "le = LabelEncoder().fit(trainY)\n",
    "trainY = np_utils.to_categorical(le.transform(trainY), 2)\n",
    "testY = np_utils.to_categorical(le.transform(testY), 2)"
   ]
  },
  {
   "cell_type": "code",
   "execution_count": 9,
   "id": "ab356331",
   "metadata": {},
   "outputs": [],
   "source": [
    "# account for skew in the labeled data\n",
    "classTotals = trainY.sum(axis=0)\n",
    "classWeight = classTotals.max() / classTotals\n",
    "classWeight = {i : classWeight[i] for i in range(len(classWeight))}\n",
    "classWeight"
   ]
  },
  {
   "cell_type": "code",
   "execution_count": 10,
   "id": "925de068",
   "metadata": {},
   "outputs": [
    {
     "name": "stdout",
     "output_type": "stream",
     "text": [
      "\n"
     ]
    }
   ],
   "source": [
    "# initialize the model\n",
    "print(\"[INFO] compiling model...\")\n",
    "model = LeNet.build(width=28, height=28, depth=1, classes=2)\n",
    "model.compile(loss=\"binary_crossentropy\", optimizer=\"adam\", metrics=[\"accuracy\"])"
   ]
  },
  {
   "cell_type": "code",
   "execution_count": 11,
   "id": "e04ad5aa",
   "metadata": {},
   "outputs": [
    {
     "name": "stdout",
     "output_type": "stream",
     "text": [
      "[INFO] training network...\n",
      "Epoch 1/15\n",
      "44/44 [==============================] - 11s 212ms/step - loss: 0.7555 - accuracy: 0.5939 - val_loss: 0.6431 - val_accuracy: 0.6400\n",
      "Epoch 2/15\n",
      "44/44 [==============================] - 8s 190ms/step - loss: 0.6433 - accuracy: 0.7071 - val_loss: 0.5305 - val_accuracy: 0.7450\n",
      "Epoch 3/15\n",
      "44/44 [==============================] - 8s 183ms/step - loss: 0.5193 - accuracy: 0.7868 - val_loss: 0.5188 - val_accuracy: 0.7458\n",
      "Epoch 4/15\n",
      "44/44 [==============================] - 8s 180ms/step - loss: 0.4414 - accuracy: 0.8229 - val_loss: 0.3880 - val_accuracy: 0.8392\n",
      "Epoch 5/15\n",
      "44/44 [==============================] - 8s 176ms/step - loss: 0.3966 - accuracy: 0.8421 - val_loss: 0.3732 - val_accuracy: 0.8350\n",
      "Epoch 6/15\n",
      "44/44 [==============================] - 8s 181ms/step - loss: 0.3587 - accuracy: 0.8589 - val_loss: 0.3405 - val_accuracy: 0.8592\n",
      "Epoch 7/15\n",
      "44/44 [==============================] - 8s 179ms/step - loss: 0.3398 - accuracy: 0.8732 - val_loss: 0.3417 - val_accuracy: 0.8483\n",
      "Epoch 8/15\n",
      "44/44 [==============================] - 8s 175ms/step - loss: 0.3271 - accuracy: 0.8739 - val_loss: 0.3282 - val_accuracy: 0.8658\n",
      "Epoch 9/15\n",
      "44/44 [==============================] - 8s 178ms/step - loss: 0.3034 - accuracy: 0.8893 - val_loss: 0.3153 - val_accuracy: 0.8675\n",
      "Epoch 10/15\n",
      "44/44 [==============================] - 8s 178ms/step - loss: 0.2918 - accuracy: 0.8954 - val_loss: 0.3310 - val_accuracy: 0.8617\n",
      "Epoch 11/15\n",
      "44/44 [==============================] - 8s 176ms/step - loss: 0.2972 - accuracy: 0.8850 - val_loss: 0.3156 - val_accuracy: 0.8683\n",
      "Epoch 12/15\n",
      "44/44 [==============================] - 8s 186ms/step - loss: 0.2723 - accuracy: 0.8964 - val_loss: 0.3155 - val_accuracy: 0.8725\n",
      "Epoch 13/15\n",
      "44/44 [==============================] - 8s 175ms/step - loss: 0.2531 - accuracy: 0.9061 - val_loss: 0.3347 - val_accuracy: 0.8625\n",
      "Epoch 14/15\n",
      "44/44 [==============================] - 8s 184ms/step - loss: 0.2497 - accuracy: 0.9046 - val_loss: 0.4364 - val_accuracy: 0.8292\n",
      "Epoch 15/15\n",
      "44/44 [==============================] - 8s 185ms/step - loss: 0.2387 - accuracy: 0.9089 - val_loss: 0.3405 - val_accuracy: 0.8575\n"
     ]
    }
   ],
   "source": [
    "# train the network\n",
    "print(\"[INFO] training network...\")\n",
    "H = model.fit(trainX, trainY, validation_data=(testX, testY), class_weight=classWeight, batch_size=64, epochs=15, verbose=1)"
   ]
  },
  {
   "cell_type": "code",
   "execution_count": 19,
   "id": "0e78ee04",
   "metadata": {},
   "outputs": [
    {
     "name": "stdout",
     "output_type": "stream",
     "text": [
      "[INFO] evaluating network...\n",
      "38/38 - 1s - 786ms/epoch - 21ms/step\n",
      "              precision    recall  f1-score   support\n",
      "\n",
      " not_smiling       0.85      0.87      0.86       600\n",
      "     smiling       0.87      0.84      0.86       600\n",
      "\n",
      "    accuracy                           0.86      1200\n",
      "   macro avg       0.86      0.86      0.86      1200\n",
      "weighted avg       0.86      0.86      0.86      1200\n",
      "\n"
     ]
    }
   ],
   "source": [
    "# evaluate the network\n",
    "print(\"[INFO] evaluating network...\")\n",
    "predictions = model.predict(testX, verbose=2)\n",
    "print(classification_report(testY.argmax(axis=1), predictions.argmax(axis=1), target_names=le.classes_))"
   ]
  },
  {
   "cell_type": "code",
   "execution_count": 17,
   "id": "328adb6c",
   "metadata": {},
   "outputs": [
    {
     "data": {
      "text/plain": [
       "<AxesSubplot:>"
      ]
     },
     "execution_count": 17,
     "metadata": {},
     "output_type": "execute_result"
    },
    {
     "data": {
      "image/png": "[encoded data removed]",
      "text/plain": [
       "<Figure size 432x288 with 2 Axes>"
      ]
     },
     "metadata": {},
     "output_type": "display_data"
    }
   ],
   "source": [
    "matrix = confusion_matrix(predictions.argmax(axis=1), testY.argmax(axis=1))\n",
    "df_cm = pd.DataFrame(matrix, [\"smiling\", \"not_smiling\"], [\"smiling\", \"not_smiling\"])\n",
    "# plt.figure(figsize=(10,7))\n",
    "sn.set(font_scale=1.4) # for label size\n",
    "sn.heatmap(df_cm, annot=True, annot_kws={\"size\": 16}, fmt=\"g\") # font size"
   ]
  },
  {
   "cell_type": "code",
   "execution_count": 14,
   "id": "0a768085",
   "metadata": {
    "scrolled": true
   },
   "outputs": [
    {
     "name": "stdout",
     "output_type": "stream",
     "text": [
      "[INFO] serializing network...\n",
      "INFO:tensorflow:Assets written to: ./model/LeNet\\assets\n"
     ]
    }
   ],
   "source": [
    "# save the model to disk\n",
    "print(\"[INFO] serializing network...\")\n",
    "model.save(\"./model/LeNet\")"
   ]
  },
  {
   "cell_type": "code",
   "execution_count": 15,
   "id": "7dc30499",
   "metadata": {},
   "outputs": [
    {
     "data": {
      "image/png": "[encoded data removed]",
      "text/plain": [
       "<Figure size 432x288 with 1 Axes>"
      ]
     },
     "metadata": {},
     "output_type": "display_data"
    }
   ],
   "source": [
    "# plot the training + testing loss and accuracy\n",
    "plt.style.use(\"ggplot\")\n",
    "plt.figure()\n",
    "plt.plot(np.arange(0, 15), H.history[\"loss\"], label=\"train_loss\")\n",
    "plt.plot(np.arange(0, 15), H.history[\"val_loss\"], label=\"val_loss\")\n",
    "plt.plot(np.arange(0, 15), H.history[\"accuracy\"], label=\"acc\")\n",
    "plt.plot(np.arange(0, 15), H.history[\"val_accuracy\"], label=\"val_acc\")\n",
    "plt.title(\"Training Loss and Accuracy\")\n",
    "plt.xlabel(\"Epoch #\")\n",
    "plt.ylabel(\"Loss/Accuracy\")\n",
    "plt.legend()\n",
    "plt.show()"
   ]
  },
  {
   "cell_type": "code",
   "execution_count": null,
   "id": "3286b559",
   "metadata": {},
   "outputs": [],
   "source": []
  }
 ],
 "metadata": {
  "kernelspec": {
   "display_name": "Python 3 (ipykernel)",
   "language": "python",
   "name": "python3"
  },
  "language_info": {
   "codemirror_mode": {
    "name": "ipython",
    "version": 3
   },
   "file_extension": ".py",
   "mimetype": "text/x-python",
   "name": "python",
   "nbconvert_exporter": "python",
   "pygments_lexer": "ipython3",
   "version": "3.8.8"
  }
 },
 "nbformat": 4,
 "nbformat_minor": 5
}
