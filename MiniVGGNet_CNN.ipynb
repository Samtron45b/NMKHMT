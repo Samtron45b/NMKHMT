{
 "cells": [
  {
   "cell_type": "code",
   "execution_count": 5,
   "id": "0087f58b",
   "metadata": {},
   "outputs": [],
   "source": [
    "from sklearn.preprocessing import LabelEncoder\n",
    "from sklearn.metrics import classification_report, confusion_matrix\n",
    "from keras.preprocessing.image import img_to_array\n",
    "from keras.utils import np_utils\n",
    "from tensorflow.keras.optimizers import SGD\n",
    "from MiniVGGNet import MiniVGGNet\n",
    "from IPython.display import clear_output\n",
    "from imutils import paths\n",
    "import matplotlib.pyplot as plt\n",
    "import numpy as np\n",
    "import imutils\n",
    "import cv2\n",
    "import os\n",
    "import seaborn as sn\n",
    "import pandas as pd"
   ]
  },
  {
   "cell_type": "code",
   "execution_count": 6,
   "id": "87dfd3fa",
   "metadata": {},
   "outputs": [],
   "source": [
    "def importImages(dir, label):\n",
    "    paths = os.listdir(dir)\n",
    "    x = []\n",
    "    y = []\n",
    "    \n",
    "    for imagePath in paths:\n",
    "        clear_output(wait=True)\n",
    "        print(imagePath)\n",
    "\n",
    "        # load the image, pre-process it, and store it in the data list\n",
    "        image = cv2.imread(dir + \"/\" + imagePath)\n",
    "        image = cv2.cvtColor(image, cv2.COLOR_BGR2GRAY)\n",
    "        image = imutils.resize(image, width=28)\n",
    "        image = img_to_array(image)\n",
    "        \n",
    "        x.append(image)\n",
    "        y.append(label)\n",
    "\n",
    "    print(\"Total:\", len(paths))\n",
    "    return x, y"
   ]
  },
  {
   "cell_type": "code",
   "execution_count": 7,
   "id": "fbf8cd88",
   "metadata": {},
   "outputs": [],
   "source": [
    "# scale the raw pixel intensities to the range [0, 1]\n",
    "def convert(x, y):\n",
    "    x = np.array(x, dtype=\"float\") / 255.0\n",
    "    y = np.array(y)\n",
    "    return x, y"
   ]
  },
  {
   "cell_type": "code",
   "execution_count": 8,
   "id": "484197bd",
   "metadata": {},
   "outputs": [
    {
     "name": "stdout",
     "output_type": "stream",
     "text": [
      "file3400.jpg\n",
      "Total: 1238\n"
     ]
    }
   ],
   "source": [
    "trainX, trainY = importImages(\"./datasets/train_folder/0\", \"not_smiling\")"
   ]
  },
  {
   "cell_type": "code",
   "execution_count": 9,
   "id": "7b911647",
   "metadata": {},
   "outputs": [
    {
     "name": "stdout",
     "output_type": "stream",
     "text": [
      "file1432.jpg\n"
     ]
    }
   ],
   "source": [
    "x, y = importImages(\"./datasets/train_folder/1\", \"smiling\");\n",
    "trainX += x\n",
    "trainY += y\n",
    "trainX, trainY = convert(trainX, trainY)"
   ]
  },
  {
   "cell_type": "code",
   "execution_count": 10,
   "id": "1059a434",
   "metadata": {},
   "outputs": [
    {
     "name": "stdout",
     "output_type": "stream",
     "text": [
      "file4000.jpg\n",
      "Total: 600\n"
     ]
    }
   ],
   "source": [
    "testX, testY = importImages(\"./datasets/test_folder/0\", \"not_smiling\")"
   ]
  },
  {
   "cell_type": "code",
   "execution_count": 11,
   "id": "bd182fcb",
   "metadata": {},
   "outputs": [
    {
     "name": "stdout",
     "output_type": "stream",
     "text": [
      "file2055.jpg\n"
     ]
    }
   ],
   "source": [
    "x, y = importImages(\"./datasets/test_folder/1\", \"smiling\");\n",
    "testX += x\n",
    "testY += y\n",
    "testX, testY = convert(testX, testY)"
   ]
  },
  {
   "cell_type": "code",
   "execution_count": 12,
   "id": "81f7a9ec",
   "metadata": {},
   "outputs": [],
   "source": [
    "# convert the labels from integers to vectors\n",
    "le = LabelEncoder().fit(trainY)\n",
    "trainY = np_utils.to_categorical(le.transform(trainY), 2)\n",
    "testY = np_utils.to_categorical(le.transform(testY), 2)"
   ]
  },
  {
   "cell_type": "code",
   "execution_count": 13,
   "id": "ab356331",
   "metadata": {},
   "outputs": [
    {
     "data": {
      "text/plain": [
       "{0: 1.2617124, 1: 1.0}"
      ]
     },
     "execution_count": 13,
     "metadata": {},
     "output_type": "execute_result"
    }
   ],
   "source": [
    "# account for skew in the labeled data\n",
    "classTotals = trainY.sum(axis=0)\n",
    "classWeight = classTotals.max() / classTotals\n",
    "classWeight = {i : classWeight[i] for i in range(len(classWeight))}\n",
    "classWeight"
   ]
  },
  {
   "cell_type": "code",
   "execution_count": 16,
   "id": "925de068",
   "metadata": {},
   "outputs": [
    {
     "name": "stdout",
     "output_type": "stream",
     "text": [
      "[INFO] compiling model...\n"
     ]
    }
   ],
   "source": [
    "# initialize the model\n",
    "print(\"[INFO] compiling model...\")\n",
    "opt = SGD(learning_rate=0.01, decay=0.01 / 40, momentum=0.9, nesterov=True)\n",
    "model = MiniVGGNet.build(width=28, height=28, depth=1, classes=2)\n",
    "model.compile(loss=\"binary_crossentropy\", optimizer=opt, metrics=[\"accuracy\"])"
   ]
  },
  {
   "cell_type": "code",
   "execution_count": 17,
   "id": "e04ad5aa",
   "metadata": {},
   "outputs": [
    {
     "name": "stdout",
     "output_type": "stream",
     "text": [
      "[INFO] training network...\n",
      "Epoch 1/15\n",
      "44/44 [==============================] - 25s 546ms/step - loss: 0.9034 - accuracy: 0.6204 - val_loss: 0.6655 - val_accuracy: 0.6150\n",
      "Epoch 2/15\n",
      "44/44 [==============================] - 31s 716ms/step - loss: 0.6232 - accuracy: 0.7425 - val_loss: 0.6369 - val_accuracy: 0.5925\n",
      "Epoch 3/15\n",
      "44/44 [==============================] - 22s 502ms/step - loss: 0.5060 - accuracy: 0.7932 - val_loss: 0.5784 - val_accuracy: 0.7283\n",
      "Epoch 4/15\n",
      "44/44 [==============================] - 22s 493ms/step - loss: 0.4268 - accuracy: 0.8286 - val_loss: 0.5374 - val_accuracy: 0.7350\n",
      "Epoch 5/15\n",
      "44/44 [==============================] - 22s 498ms/step - loss: 0.4089 - accuracy: 0.8400 - val_loss: 0.5155 - val_accuracy: 0.7517\n",
      "Epoch 6/15\n",
      "44/44 [==============================] - 23s 515ms/step - loss: 0.3755 - accuracy: 0.8550 - val_loss: 0.5017 - val_accuracy: 0.7675\n",
      "Epoch 7/15\n",
      "44/44 [==============================] - 27s 606ms/step - loss: 0.3643 - accuracy: 0.8539 - val_loss: 0.4758 - val_accuracy: 0.7908\n",
      "Epoch 8/15\n",
      "44/44 [==============================] - 30s 680ms/step - loss: 0.3360 - accuracy: 0.8693 - val_loss: 0.5111 - val_accuracy: 0.7308\n",
      "Epoch 9/15\n",
      "44/44 [==============================] - 31s 699ms/step - loss: 0.3297 - accuracy: 0.8736 - val_loss: 0.4002 - val_accuracy: 0.8217\n",
      "Epoch 10/15\n",
      "44/44 [==============================] - 25s 578ms/step - loss: 0.3090 - accuracy: 0.8796 - val_loss: 0.3477 - val_accuracy: 0.8467\n",
      "Epoch 11/15\n",
      "44/44 [==============================] - 25s 564ms/step - loss: 0.2761 - accuracy: 0.8904 - val_loss: 0.3766 - val_accuracy: 0.8392\n",
      "Epoch 12/15\n",
      "44/44 [==============================] - 26s 599ms/step - loss: 0.2648 - accuracy: 0.9000 - val_loss: 0.3383 - val_accuracy: 0.8525\n",
      "Epoch 13/15\n",
      "44/44 [==============================] - 22s 507ms/step - loss: 0.2548 - accuracy: 0.9068 - val_loss: 0.3246 - val_accuracy: 0.8533\n",
      "Epoch 14/15\n",
      "44/44 [==============================] - 24s 543ms/step - loss: 0.2301 - accuracy: 0.9089 - val_loss: 0.3470 - val_accuracy: 0.8525\n",
      "Epoch 15/15\n",
      "44/44 [==============================] - 24s 550ms/step - loss: 0.2366 - accuracy: 0.9121 - val_loss: 0.3022 - val_accuracy: 0.8642\n"
     ]
    }
   ],
   "source": [
    "# train the network\n",
    "print(\"[INFO] training network...\")\n",
    "H = model.fit(trainX, trainY, validation_data=(testX, testY), class_weight=classWeight, batch_size=64, epochs=15, verbose=1)"
   ]
  },
  {
   "cell_type": "code",
   "execution_count": 18,
   "id": "0e78ee04",
   "metadata": {},
   "outputs": [
    {
     "name": "stdout",
     "output_type": "stream",
     "text": [
      "[INFO] evaluating network...\n",
      "38/38 - 2s - 2s/epoch - 61ms/step\n",
      "              precision    recall  f1-score   support\n",
      "\n",
      " not_smiling       0.90      0.82      0.86       600\n",
      "     smiling       0.83      0.91      0.87       600\n",
      "\n",
      "    accuracy                           0.86      1200\n",
      "   macro avg       0.87      0.86      0.86      1200\n",
      "weighted avg       0.87      0.86      0.86      1200\n",
      "\n"
     ]
    }
   ],
   "source": [
    "# evaluate the network\n",
    "print(\"[INFO] evaluating network...\")\n",
    "predictions = model.predict(testX, verbose=2)\n",
    "print(classification_report(testY.argmax(axis=1), predictions.argmax(axis=1), target_names=le.classes_))"
   ]
  },
  {
   "cell_type": "code",
   "execution_count": 19,
   "id": "328adb6c",
   "metadata": {},
   "outputs": [
    {
     "data": {
      "text/plain": [
       "<AxesSubplot:>"
      ]
     },
     "execution_count": 19,
     "metadata": {},
     "output_type": "execute_result"
    },
    {
     "data": {
      "image/png": "[encoded data removed]",
      "text/plain": [
       "<Figure size 432x288 with 2 Axes>"
      ]
     },
     "metadata": {},
     "output_type": "display_data"
    }
   ],
   "source": [
    "matrix = confusion_matrix(predictions.argmax(axis=1), testY.argmax(axis=1))\n",
    "df_cm = pd.DataFrame(matrix, [\"smiling\", \"not_smiling\"], [\"smiling\", \"not_smiling\"])\n",
    "# plt.figure(figsize=(10,7))\n",
    "sn.set(font_scale=1.4) # for label size\n",
    "sn.heatmap(df_cm, annot=True, annot_kws={\"size\": 16}, fmt=\"g\") # font size"
   ]
  },
  {
   "cell_type": "code",
   "execution_count": 20,
   "id": "0a768085",
   "metadata": {
    "scrolled": true
   },
   "outputs": [
    {
     "name": "stdout",
     "output_type": "stream",
     "text": [
      "[INFO] serializing network...\n",
      "INFO:tensorflow:Assets written to: ./model/MiniVGGNet\\assets\n"
     ]
    }
   ],
   "source": [
    "# save the model to disk\n",
    "print(\"[INFO] serializing network...\")\n",
    "model.save(\"./models/MiniVGGNet\")"
   ]
  },
  {
   "cell_type": "code",
   "execution_count": 21,
   "id": "7dc30499",
   "metadata": {},
   "outputs": [
    {
     "data": {
      "image/png": "[encoded data removed]",
      "text/plain": [
       "<Figure size 432x288 with 1 Axes>"
      ]
     },
     "metadata": {},
     "output_type": "display_data"
    }
   ],
   "source": [
    "# plot the training + testing loss and accuracy\n",
    "plt.style.use(\"ggplot\")\n",
    "plt.figure()\n",
    "plt.plot(np.arange(0, 15), H.history[\"loss\"], label=\"train_loss\")\n",
    "plt.plot(np.arange(0, 15), H.history[\"val_loss\"], label=\"val_loss\")\n",
    "plt.plot(np.arange(0, 15), H.history[\"accuracy\"], label=\"acc\")\n",
    "plt.plot(np.arange(0, 15), H.history[\"val_accuracy\"], label=\"val_acc\")\n",
    "plt.title(\"Training Loss and Accuracy\")\n",
    "plt.xlabel(\"Epoch #\")\n",
    "plt.ylabel(\"Loss/Accuracy\")\n",
    "plt.legend()\n",
    "plt.show()"
   ]
  },
  {
   "cell_type": "code",
   "execution_count": null,
   "id": "3286b559",
   "metadata": {},
   "outputs": [],
   "source": []
  }
 ],
 "metadata": {
  "kernelspec": {
   "display_name": "Python 3 (ipykernel)",
   "language": "python",
   "name": "python3"
  },
  "language_info": {
   "codemirror_mode": {
    "name": "ipython",
    "version": 3
   },
   "file_extension": ".py",
   "mimetype": "text/x-python",
   "name": "python",
   "nbconvert_exporter": "python",
   "pygments_lexer": "ipython3",
   "version": "3.8.8"
  }
 },
 "nbformat": 4,
 "nbformat_minor": 5
}
