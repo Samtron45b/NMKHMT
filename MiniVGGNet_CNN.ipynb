{
 "cells": [
  {
   "cell_type": "code",
   "execution_count": 1,
   "id": "0087f58b",
   "metadata": {},
   "outputs": [],
   "source": [
    "from sklearn.preprocessing import LabelEncoder\n",
    "from sklearn.metrics import classification_report, confusion_matrix\n",
    "from keras.preprocessing.image import img_to_array\n",
    "from keras.utils import np_utils\n",
    "from tensorflow.keras.optimizers import SGD\n",
    "from MiniVGGNet import MiniVGGNet\n",
    "from IPython.display import clear_output\n",
    "from imutils import paths\n",
    "import matplotlib.pyplot as plt\n",
    "import numpy as np\n",
    "import imutils\n",
    "import cv2\n",
    "import os\n",
    "import seaborn as sn\n",
    "import pandas as pd"
   ]
  },
  {
   "cell_type": "code",
   "execution_count": 2,
   "id": "87dfd3fa",
   "metadata": {},
   "outputs": [],
   "source": [
    "def importImages(dir, label):\n",
    "    paths = os.listdir(dir)\n",
    "    x = []\n",
    "    y = []\n",
    "    \n",
    "    for imagePath in paths:\n",
    "        clear_output(wait=True)\n",
    "        print(imagePath)\n",
    "\n",
    "        # load the image, pre-process it, and store it in the data list\n",
    "        image = cv2.imread(dir + \"/\" + imagePath)\n",
    "        image = cv2.cvtColor(image, cv2.COLOR_BGR2GRAY)\n",
    "        image = imutils.resize(image, width=28)\n",
    "        image = img_to_array(image)\n",
    "        \n",
    "        x.append(image)\n",
    "        y.append(label)\n",
    "\n",
    "    print(\"Total:\", len(paths))\n",
    "    return x, y"
   ]
  },
  {
   "cell_type": "code",
   "execution_count": 3,
   "id": "fbf8cd88",
   "metadata": {},
   "outputs": [],
   "source": [
    "# scale the raw pixel intensities to the range [0, 1]\n",
    "def convert(x, y):\n",
    "    x = np.array(x, dtype=\"float\") / 255.0\n",
    "    y = np.array(y)\n",
    "    return x, y"
   ]
  },
  {
   "cell_type": "code",
   "execution_count": 4,
   "id": "484197bd",
   "metadata": {},
   "outputs": [
    {
     "name": "stdout",
     "output_type": "stream",
     "text": [
      "file3400.jpg\n",
      "Total: 1238\n"
     ]
    }
   ],
   "source": [
    "trainX, trainY = importImages(\"./datasets/train_folder/0\", \"not_smiling\")"
   ]
  },
  {
   "cell_type": "code",
   "execution_count": 5,
   "id": "7b911647",
   "metadata": {},
   "outputs": [
    {
     "name": "stdout",
     "output_type": "stream",
     "text": [
      "file1562.jpg\n",
      "Total: 1562\n"
     ]
    }
   ],
   "source": [
    "x, y = importImages(\"./datasets/train_folder/1\", \"smiling\");\n",
    "trainX += x\n",
    "trainY += y\n",
    "trainX, trainY = convert(trainX, trainY)"
   ]
  },
  {
   "cell_type": "code",
   "execution_count": 6,
   "id": "1059a434",
   "metadata": {},
   "outputs": [
    {
     "name": "stdout",
     "output_type": "stream",
     "text": [
      "file3856.jpg\n"
     ]
    }
   ],
   "source": [
    "testX, testY = importImages(\"./datasets/test_folder/0\", \"not_smiling\")"
   ]
  },
  {
   "cell_type": "code",
   "execution_count": 7,
   "id": "bd182fcb",
   "metadata": {},
   "outputs": [
    {
     "name": "stdout",
     "output_type": "stream",
     "text": [
      "file2162.jpg\n",
      "Total: 600\n"
     ]
    }
   ],
   "source": [
    "x, y = importImages(\"./datasets/test_folder/1\", \"smiling\");\n",
    "testX += x\n",
    "testY += y\n",
    "testX, testY = convert(testX, testY)"
   ]
  },
  {
   "cell_type": "code",
   "execution_count": 8,
   "id": "81f7a9ec",
   "metadata": {},
   "outputs": [],
   "source": [
    "# convert the labels from integers to vectors\n",
    "le = LabelEncoder().fit(trainY)\n",
    "trainY = np_utils.to_categorical(le.transform(trainY), 2)\n",
    "testY = np_utils.to_categorical(le.transform(testY), 2)"
   ]
  },
  {
   "cell_type": "code",
   "execution_count": 9,
   "id": "ab356331",
   "metadata": {},
   "outputs": [
    {
     "data": {
      "text/plain": [
       "{0: 1.2617124, 1: 1.0}"
      ]
     },
     "execution_count": 9,
     "metadata": {},
     "output_type": "execute_result"
    }
   ],
   "source": [
    "# account for skew in the labeled data\n",
    "classTotals = trainY.sum(axis=0)\n",
    "classWeight = classTotals.max() / classTotals\n",
    "classWeight = {i : classWeight[i] for i in range(len(classWeight))}\n",
    "classWeight"
   ]
  },
  {
   "cell_type": "code",
   "execution_count": 10,
   "id": "925de068",
   "metadata": {},
   "outputs": [
    {
     "name": "stdout",
     "output_type": "stream",
     "text": [
      "[INFO] compiling model...\n"
     ]
    }
   ],
   "source": [
    "# initialize the model\n",
    "print(\"[INFO] compiling model...\")\n",
    "opt = SGD(learning_rate=0.01, decay=0.01 / 40, momentum=0.9, nesterov=True)\n",
    "model = MiniVGGNet.build(width=28, height=28, depth=1, classes=2)\n",
    "model.compile(loss=\"binary_crossentropy\", optimizer=opt, metrics=[\"accuracy\"])"
   ]
  },
  {
   "cell_type": "code",
   "execution_count": 16,
   "id": "e04ad5aa",
   "metadata": {},
   "outputs": [
    {
     "name": "stdout",
     "output_type": "stream",
     "text": [
      "[INFO] training network...\n",
      "Epoch 1/25\n",
      "44/44 [==============================] - 21s 483ms/step - loss: 0.1986 - accuracy: 0.9261 - val_loss: 0.3010 - val_accuracy: 0.8650\n",
      "Epoch 2/25\n",
      "44/44 [==============================] - 21s 480ms/step - loss: 0.1901 - accuracy: 0.9293 - val_loss: 0.2981 - val_accuracy: 0.8817\n",
      "Epoch 3/25\n",
      "44/44 [==============================] - 22s 511ms/step - loss: 0.1897 - accuracy: 0.9254 - val_loss: 0.3340 - val_accuracy: 0.8425\n",
      "Epoch 4/25\n",
      "44/44 [==============================] - 24s 543ms/step - loss: 0.1950 - accuracy: 0.9329 - val_loss: 0.2952 - val_accuracy: 0.8717\n",
      "Epoch 5/25\n",
      "44/44 [==============================] - 21s 469ms/step - loss: 0.1550 - accuracy: 0.9450 - val_loss: 0.2934 - val_accuracy: 0.8850\n",
      "Epoch 6/25\n",
      "44/44 [==============================] - 28s 646ms/step - loss: 0.1633 - accuracy: 0.9379 - val_loss: 0.3057 - val_accuracy: 0.8883\n",
      "Epoch 7/25\n",
      "44/44 [==============================] - 25s 562ms/step - loss: 0.1486 - accuracy: 0.9461 - val_loss: 0.2842 - val_accuracy: 0.8900\n",
      "Epoch 8/25\n",
      "44/44 [==============================] - 23s 523ms/step - loss: 0.1570 - accuracy: 0.9429 - val_loss: 0.3791 - val_accuracy: 0.8450\n",
      "Epoch 9/25\n",
      "44/44 [==============================] - 22s 501ms/step - loss: 0.1400 - accuracy: 0.9475 - val_loss: 0.3620 - val_accuracy: 0.8567\n",
      "Epoch 10/25\n",
      "44/44 [==============================] - 20s 447ms/step - loss: 0.1342 - accuracy: 0.9489 - val_loss: 0.3206 - val_accuracy: 0.8900\n",
      "Epoch 11/25\n",
      "44/44 [==============================] - 20s 463ms/step - loss: 0.1157 - accuracy: 0.9564 - val_loss: 0.3214 - val_accuracy: 0.8917\n",
      "Epoch 12/25\n",
      "44/44 [==============================] - 21s 466ms/step - loss: 0.1130 - accuracy: 0.9607 - val_loss: 0.3409 - val_accuracy: 0.8833\n",
      "Epoch 13/25\n",
      "44/44 [==============================] - 22s 507ms/step - loss: 0.1388 - accuracy: 0.9518 - val_loss: 0.3542 - val_accuracy: 0.8858\n",
      "Epoch 14/25\n",
      "44/44 [==============================] - 21s 473ms/step - loss: 0.1357 - accuracy: 0.9511 - val_loss: 0.3326 - val_accuracy: 0.8783\n",
      "Epoch 15/25\n",
      "44/44 [==============================] - 23s 530ms/step - loss: 0.1220 - accuracy: 0.9575 - val_loss: 0.3240 - val_accuracy: 0.8842\n",
      "Epoch 16/25\n",
      "44/44 [==============================] - 24s 540ms/step - loss: 0.1011 - accuracy: 0.9679 - val_loss: 0.3012 - val_accuracy: 0.8925\n",
      "Epoch 17/25\n",
      "44/44 [==============================] - 25s 572ms/step - loss: 0.1073 - accuracy: 0.9614 - val_loss: 0.3260 - val_accuracy: 0.8817\n",
      "Epoch 18/25\n",
      "44/44 [==============================] - 25s 565ms/step - loss: 0.1164 - accuracy: 0.9604 - val_loss: 0.3897 - val_accuracy: 0.8808\n",
      "Epoch 19/25\n",
      "44/44 [==============================] - 21s 476ms/step - loss: 0.0992 - accuracy: 0.9664 - val_loss: 0.3158 - val_accuracy: 0.8917\n",
      "Epoch 20/25\n",
      "44/44 [==============================] - 23s 537ms/step - loss: 0.0775 - accuracy: 0.9707 - val_loss: 0.3249 - val_accuracy: 0.8942\n",
      "Epoch 21/25\n",
      "44/44 [==============================] - 25s 571ms/step - loss: 0.0820 - accuracy: 0.9700 - val_loss: 0.3914 - val_accuracy: 0.8700\n",
      "Epoch 22/25\n",
      "44/44 [==============================] - 26s 589ms/step - loss: 0.0872 - accuracy: 0.9661 - val_loss: 0.3561 - val_accuracy: 0.8850\n",
      "Epoch 23/25\n",
      "44/44 [==============================] - 33s 750ms/step - loss: 0.0703 - accuracy: 0.9739 - val_loss: 0.3245 - val_accuracy: 0.8908\n",
      "Epoch 24/25\n",
      "44/44 [==============================] - 26s 595ms/step - loss: 0.0781 - accuracy: 0.9761 - val_loss: 0.3233 - val_accuracy: 0.8900\n",
      "Epoch 25/25\n",
      "44/44 [==============================] - 29s 650ms/step - loss: 0.0662 - accuracy: 0.9786 - val_loss: 0.3396 - val_accuracy: 0.8867\n"
     ]
    }
   ],
   "source": [
    "# train the network\n",
    "print(\"[INFO] training network...\")\n",
    "H = model.fit(trainX, trainY, validation_data=(testX, testY), class_weight=classWeight, batch_size=64, epochs=25, verbose=1)"
   ]
  },
  {
   "cell_type": "code",
   "execution_count": 17,
   "id": "0e78ee04",
   "metadata": {},
   "outputs": [
    {
     "name": "stdout",
     "output_type": "stream",
     "text": [
      "[INFO] evaluating network...\n",
      "38/38 - 2s - 2s/epoch - 58ms/step\n",
      "              precision    recall  f1-score   support\n",
      "\n",
      " not_smiling       0.92      0.85      0.88       600\n",
      "     smiling       0.86      0.92      0.89       600\n",
      "\n",
      "    accuracy                           0.89      1200\n",
      "   macro avg       0.89      0.89      0.89      1200\n",
      "weighted avg       0.89      0.89      0.89      1200\n",
      "\n"
     ]
    }
   ],
   "source": [
    "# evaluate the network\n",
    "print(\"[INFO] evaluating network...\")\n",
    "predictions = model.predict(testX, verbose=2)\n",
    "print(classification_report(testY.argmax(axis=1), predictions.argmax(axis=1), target_names=le.classes_))"
   ]
  },
  {
   "cell_type": "code",
   "execution_count": 18,
   "id": "328adb6c",
   "metadata": {},
   "outputs": [
    {
     "data": {
      "text/plain": [
       "<AxesSubplot:>"
      ]
     },
     "execution_count": 18,
     "metadata": {},
     "output_type": "execute_result"
    },
    {
     "data": {
      "image/png": "[encoded data removed]",
      "text/plain": [
       "<Figure size 432x288 with 2 Axes>"
      ]
     },
     "metadata": {},
     "output_type": "display_data"
    }
   ],
   "source": [
    "matrix = confusion_matrix(predictions.argmax(axis=1), testY.argmax(axis=1))\n",
    "df_cm = pd.DataFrame(matrix, [\"smiling\", \"not_smiling\"], [\"smiling\", \"not_smiling\"])\n",
    "# plt.figure(figsize=(10,7))\n",
    "sn.set(font_scale=1.4) # for label size\n",
    "sn.heatmap(df_cm, annot=True, annot_kws={\"size\": 16}, fmt=\"g\") # font size"
   ]
  },
  {
   "cell_type": "code",
   "execution_count": 19,
   "id": "0a768085",
   "metadata": {
    "scrolled": true
   },
   "outputs": [
    {
     "name": "stdout",
     "output_type": "stream",
     "text": [
      "[INFO] serializing network...\n",
      "INFO:tensorflow:Assets written to: ./models/MiniVGGNet\\assets\n"
     ]
    }
   ],
   "source": [
    "# save the model to disk\n",
    "print(\"[INFO] serializing network...\")\n",
    "model.save(\"./models/MiniVGGNet\")"
   ]
  },
  {
   "cell_type": "code",
   "execution_count": 21,
   "id": "7dc30499",
   "metadata": {},
   "outputs": [
    {
     "data": {
      "image/png": "[encoded data removed]",
      "text/plain": [
       "<Figure size 432x288 with 1 Axes>"
      ]
     },
     "metadata": {},
     "output_type": "display_data"
    }
   ],
   "source": [
    "# plot the training + testing loss and accuracy\n",
    "plt.style.use(\"ggplot\")\n",
    "plt.figure()\n",
    "plt.plot(np.arange(0, 25), H.history[\"loss\"], label=\"loss\")\n",
    "plt.plot(np.arange(0, 25), H.history[\"accuracy\"], label=\"accuracy\")\n",
    "plt.title(\"Training Loss and Accuracy\")\n",
    "plt.xlabel(\"Epoch #\")\n",
    "plt.ylabel(\"Loss/Accuracy\")\n",
    "plt.legend()\n",
    "plt.show()"
   ]
  },
  {
   "cell_type": "code",
   "execution_count": null,
   "id": "3286b559",
   "metadata": {},
   "outputs": [],
   "source": []
  }
 ],
 "metadata": {
  "kernelspec": {
   "display_name": "Python 3 (ipykernel)",
   "language": "python",
   "name": "python3"
  },
  "language_info": {
   "codemirror_mode": {
    "name": "ipython",
    "version": 3
   },
   "file_extension": ".py",
   "mimetype": "text/x-python",
   "name": "python",
   "nbconvert_exporter": "python",
   "pygments_lexer": "ipython3",
   "version": "3.8.8"
  }
 },
 "nbformat": 4,
 "nbformat_minor": 5
}
